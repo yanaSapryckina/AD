{
 "cells": [
  {
   "cell_type": "code",
   "execution_count": 14,
   "metadata": {},
   "outputs": [
    {
     "name": "stdout",
     "output_type": "stream",
     "text": [
      "введите дату: 6\n",
      "введите месяц: июнь\n",
      "близнецы\n"
     ]
    }
   ],
   "source": [
    "d = input('введите дату: ')\n",
    "m = input('введите месяц: ')\n",
    "d = int(d)\n",
    "if (d in range(21,31) and m == 'март') or (d in range(1,19) and m == 'апрель'):\n",
    "    print('овен')\n",
    "elif (d in range(20,30) and m == 'апрель') or (d in range(1,20) and m == 'май'):\n",
    "    print('телец')\n",
    "elif (d in range(21,31) and m == 'май') or (d in range(1,21) and m == 'июнь'):\n",
    "    print('близнецы')\n",
    "elif (d in range(22,30) and m == 'июнь') or (d in range(1,22) and m == 'июль'):\n",
    "    print('рак')\n",
    "elif (d in range(23,31) and m == 'июль') or (d in range(1,22) and m == 'август'):\n",
    "    print('лев')\n",
    "elif (d in range(23,31) and m == 'август') or (d in range(1,22) and m == 'сентябрь'):\n",
    "    print('дева')\n",
    "elif (d in range(23,30) and m == 'сентябрь') or (d in range(1,23) and m == 'октябрь'):\n",
    "    print('весы')\n",
    "elif (d in range(24,31) and m == 'октябрь') or (d in range(1,22) and m == 'ноябрь'):\n",
    "    print('скорпион')\n",
    "elif (d in range(23,30) and m == 'ноябрь') or (d in range(1,21) and m == 'декабрь'):\n",
    "    print('стрелец')\n",
    "elif (d in range(22,31) and m == 'декабрь') or (d in range(1,20) and m == 'январь'):\n",
    "    print('козерог')\n",
    "elif (d in range(21,31) and m == 'январь') or (d in range(1,18) and m == 'февраль'):\n",
    "    print('водолей')\n",
    "else:\n",
    "    print('рыбы')"
   ]
  },
  {
   "cell_type": "code",
   "execution_count": null,
   "metadata": {},
   "outputs": [],
   "source": []
  },
  {
   "cell_type": "code",
   "execution_count": null,
   "metadata": {},
   "outputs": [],
   "source": []
  }
 ],
 "metadata": {
  "kernelspec": {
   "display_name": "Python 3",
   "language": "python",
   "name": "python3"
  },
  "language_info": {
   "codemirror_mode": {
    "name": "ipython",
    "version": 3
   },
   "file_extension": ".py",
   "mimetype": "text/x-python",
   "name": "python",
   "nbconvert_exporter": "python",
   "pygments_lexer": "ipython3",
   "version": "3.8.3"
  }
 },
 "nbformat": 4,
 "nbformat_minor": 4
}
